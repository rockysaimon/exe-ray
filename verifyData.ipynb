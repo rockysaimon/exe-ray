{
 "cells": [
  {
   "cell_type": "code",
   "execution_count": 1,
   "metadata": {},
   "outputs": [],
   "source": [
    "import glob\n",
    "import os"
   ]
  },
  {
   "cell_type": "code",
   "execution_count": 2,
   "metadata": {},
   "outputs": [],
   "source": [
    "trainFolder=r\"train\"\n",
    "validationFolder=r\"validation\""
   ]
  },
  {
   "cell_type": "code",
   "execution_count": 3,
   "metadata": {},
   "outputs": [],
   "source": [
    "def checkDir(dir):\n",
    "    folders=len(glob.glob(dir+\"/*\"))\n",
    "    image_files=len(glob.glob(dir+\"/*/*.png\"))\n",
    "    print(f\"data folder= {dir} contains {folders} folders and {image_files} images \")"
   ]
  },
  {
   "cell_type": "code",
   "execution_count": 4,
   "metadata": {},
   "outputs": [
    {
     "name": "stdout",
     "output_type": "stream",
     "text": [
      "data folder= train contains 26 folders and 8605 images \n",
      "None\n",
      "data folder= validation contains 26 folders and 1024 images \n",
      "None\n"
     ]
    }
   ],
   "source": [
    "print(checkDir(trainFolder))\n",
    "print(checkDir(validationFolder))"
   ]
  },
  {
   "cell_type": "code",
   "execution_count": 8,
   "metadata": {},
   "outputs": [],
   "source": [
    "import pandas as pd"
   ]
  },
  {
   "cell_type": "code",
   "execution_count": 9,
   "metadata": {},
   "outputs": [],
   "source": [
    "df=pd.read_csv(\"labelcsv.csv\")"
   ]
  },
  {
   "cell_type": "code",
   "execution_count": 11,
   "metadata": {},
   "outputs": [
    {
     "name": "stdout",
     "output_type": "stream",
     "text": [
      "             label  train_images  validation_images\n",
      "0        Adialer.C           105                 16\n",
      "1        Agent.FYI           100                 16\n",
      "2        Allaple.A          2653                296\n",
      "3        Allaple.L          1431                160\n",
      "4    Alueron.grn!J           174                 24\n",
      "5        Autorun.K            90                 16\n",
      "6      C2LOP.gen!g           175                 24\n",
      "7          C2LOP.P           130                 16\n",
      "8   Dialplatform.B           153                 24\n",
      "9        Dontovo.A           146                 16\n",
      "10        Fakerean           349                 32\n",
      "11    Instanaccess           391                 40\n",
      "12      Lolyda.AA1           189                 24\n",
      "13      Lolyda.AA2           160                 24\n",
      "14      Lolyda.AA3           107                 16\n",
      "15       Lolyda.AT           143                 16\n",
      "16     Malex.gen!J           120                 16\n",
      "17      No_malware           260                 32\n",
      "18   Obfuscator.AD           126                 16\n",
      "19        Rbot!gen           142                 16\n",
      "20      Skintrim.N            64                 16\n",
      "21   Swizzor.gen!E           112                 16\n",
      "22   Swizzor.gen!l           116                 16\n",
      "23           VB.AT           368                 40\n",
      "24      Wintrim.BX            81                 16\n",
      "25         Yuner.a           720                 80\n"
     ]
    }
   ],
   "source": [
    "print(df)"
   ]
  },
  {
   "cell_type": "code",
   "execution_count": null,
   "metadata": {},
   "outputs": [],
   "source": []
  }
 ],
 "metadata": {
  "kernelspec": {
   "display_name": "Python 3",
   "language": "python",
   "name": "python3"
  },
  "language_info": {
   "codemirror_mode": {
    "name": "ipython",
    "version": 3
   },
   "file_extension": ".py",
   "mimetype": "text/x-python",
   "name": "python",
   "nbconvert_exporter": "python",
   "pygments_lexer": "ipython3",
   "version": "3.12.3"
  }
 },
 "nbformat": 4,
 "nbformat_minor": 2
}
